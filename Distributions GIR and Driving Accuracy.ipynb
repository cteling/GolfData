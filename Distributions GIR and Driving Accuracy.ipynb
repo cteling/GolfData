{
 "cells": [
  {
   "cell_type": "code",
   "execution_count": 1,
   "metadata": {
    "collapsed": true
   },
   "outputs": [],
   "source": [
    "#import libraries\n",
    "%matplotlib inline                   \n",
    "\n",
    "import matplotlib\n",
    "import numpy as np\n",
    "import matplotlib.pyplot as plt\n",
    "\n",
    "import pandas as pd\n",
    "from urllib.request import urlopen\n",
    "from bs4 import BeautifulSoup\n",
    "import seaborn as sns\n",
    "from sklearn.linear_model import LinearRegression"
   ]
  },
  {
   "cell_type": "code",
   "execution_count": 2,
   "metadata": {
    "collapsed": true
   },
   "outputs": [],
   "source": [
    "def ecdf(data):            #cumulative distribution function\n",
    "    n = len(data)\n",
    "    x = np.sort(data)\n",
    "    y = np.arange(1,n+1)/n\n",
    "    return x, y"
   ]
  },
  {
   "cell_type": "code",
   "execution_count": 3,
   "metadata": {},
   "outputs": [
    {
     "name": "stderr",
     "output_type": "stream",
     "text": [
      "C:\\Users\\Chris\\Anaconda3\\lib\\site-packages\\bs4\\__init__.py:181: UserWarning: No parser was explicitly specified, so I'm using the best available HTML parser for this system (\"lxml\"). This usually isn't a problem, but if you run this code on another system, or in a different virtual environment, it may use a different parser and behave differently.\n",
      "\n",
      "The code that caused this warning is on line 193 of the file C:\\Users\\Chris\\Anaconda3\\lib\\runpy.py. To get rid of this warning, change code that looks like this:\n",
      "\n",
      " BeautifulSoup(YOUR_MARKUP})\n",
      "\n",
      "to this:\n",
      "\n",
      " BeautifulSoup(YOUR_MARKUP, \"lxml\")\n",
      "\n",
      "  markup_type=markup_type))\n"
     ]
    }
   ],
   "source": [
    "year = 1980                          #GIR data from 1980\n",
    "str_year = str(year)\n",
    "url_gir = \"https://www.pgatour.com/stats/stat.103.\"+str_year+\".html\"\n",
    "html_gir = urlopen(url_gir)\n",
    "soup_gir = BeautifulSoup(html_gir)\n",
    "column_headers_gir = [th.getText() for th in soup_gir.findAll('tr', limit=2)[1].findAll('th')]\n",
    "data_rows_gir = soup_gir.findAll('tr')[2:] \n",
    "player_data_gir = [[td.getText() for td in data_rows_gir[i].findAll('td')] for i in range(len(data_rows_gir))]\n",
    "df_gir = pd.DataFrame(player_data_gir, columns=column_headers_gir)\n",
    "df_gir.rename(columns={'%':'PERCENT GIR'},inplace=True)\n",
    "df_gir = df_gir.drop(['RANK THIS WEEK','RANK LAST WEEK','GREENS HIT', \"# HOLES\", 'RELATIVE/PAR'],axis=1)\n",
    "gir_array_1980 = np.array(df_gir['PERCENT GIR']).astype(float)"
   ]
  },
  {
   "cell_type": "code",
   "execution_count": 4,
   "metadata": {},
   "outputs": [
    {
     "name": "stderr",
     "output_type": "stream",
     "text": [
      "C:\\Users\\Chris\\Anaconda3\\lib\\site-packages\\bs4\\__init__.py:181: UserWarning: No parser was explicitly specified, so I'm using the best available HTML parser for this system (\"lxml\"). This usually isn't a problem, but if you run this code on another system, or in a different virtual environment, it may use a different parser and behave differently.\n",
      "\n",
      "The code that caused this warning is on line 193 of the file C:\\Users\\Chris\\Anaconda3\\lib\\runpy.py. To get rid of this warning, change code that looks like this:\n",
      "\n",
      " BeautifulSoup(YOUR_MARKUP})\n",
      "\n",
      "to this:\n",
      "\n",
      " BeautifulSoup(YOUR_MARKUP, \"lxml\")\n",
      "\n",
      "  markup_type=markup_type))\n"
     ]
    }
   ],
   "source": [
    "year = 2017                  #GIR Data from 2017\n",
    "str_year = str(year)\n",
    "url_gir = \"https://www.pgatour.com/stats/stat.103.\"+str_year+\".html\"\n",
    "html_gir = urlopen(url_gir)\n",
    "soup_gir = BeautifulSoup(html_gir)\n",
    "column_headers_gir = [th.getText() for th in soup_gir.findAll('tr', limit=2)[1].findAll('th')]\n",
    "data_rows_gir = soup_gir.findAll('tr')[2:] \n",
    "player_data_gir = [[td.getText() for td in data_rows_gir[i].findAll('td')] for i in range(len(data_rows_gir))]\n",
    "df_gir = pd.DataFrame(player_data_gir, columns=column_headers_gir)\n",
    "df_gir.rename(columns={'%':'PERCENT GIR'},inplace=True)\n",
    "df_gir = df_gir.drop(['RANK THIS WEEK','RANK LAST WEEK','GREENS HIT', \"# HOLES\", 'RELATIVE/PAR'],axis=1)\n",
    "gir_array_2017 = np.array(df_gir['PERCENT GIR']).astype(float)"
   ]
  },
  {
   "cell_type": "code",
   "execution_count": 26,
   "metadata": {},
   "outputs": [
    {
     "data": {
      "image/png": "[encoded data removed]",
      "text/plain": [
       "<matplotlib.figure.Figure at 0x1a75c43b080>"
      ]
     },
     "metadata": {},
     "output_type": "display_data"
    }
   ],
   "source": [
    "x, y = ecdf(gir_array_1980)          #plot of ecdf for gir in 2017 and 1980\n",
    "x1, y1 = ecdf(gir_array_2017)\n",
    "plt.plot(x,y,marker='.', linestyle='none')\n",
    "plt.plot(x1,y1,marker='.', linestyle='none',color='red')\n",
    "plt.xlabel('PERCENT GIR')\n",
    "plt.ylabel('ECDF')\n",
    "plt.show()"
   ]
  },
  {
   "cell_type": "code",
   "execution_count": 14,
   "metadata": {},
   "outputs": [
    {
     "data": {
      "text/plain": [
       "0.9511834586466108"
      ]
     },
     "execution_count": 14,
     "metadata": {},
     "output_type": "execute_result"
    }
   ],
   "source": [
    "diff_mean_gir = np.mean(gir_array_2017)-np.mean(gir_array_1980)     #Test statistic, diff of means\n",
    "diff_mean_gir\n"
   ]
  },
  {
   "cell_type": "code",
   "execution_count": 24,
   "metadata": {},
   "outputs": [
    {
     "name": "stdout",
     "output_type": "stream",
     "text": [
      "p-value 0.00099\n"
     ]
    }
   ],
   "source": [
    "perm_list = []                       # p-value for null hypothesis that distributions the same\n",
    "for _ in range(100000):\n",
    "    gir_tot = np.concatenate([gir_array_1980,gir_array_2017])\n",
    "    gir_tot_new = np.random.permutation(gir_tot)\n",
    "    new_1980_gir = gir_tot_new[:len(gir_array_1980)]\n",
    "    new_2017_gir = gir_tot_new[len(gir_array_2017):]\n",
    "    diff_mean_gir_perm = np.mean(new_2017_gir)-np.mean(new_1980_gir)\n",
    "    perm_list.append(diff_mean_gir_perm)\n",
    "perm_array = np.array(perm_list)\n",
    "print('p-value', np.count_nonzero(perm_array>diff_mean_gir)/100000 )"
   ]
  },
  {
   "cell_type": "code",
   "execution_count": 18,
   "metadata": {},
   "outputs": [
    {
     "name": "stderr",
     "output_type": "stream",
     "text": [
      "C:\\Users\\Chris\\Anaconda3\\lib\\site-packages\\bs4\\__init__.py:181: UserWarning: No parser was explicitly specified, so I'm using the best available HTML parser for this system (\"lxml\"). This usually isn't a problem, but if you run this code on another system, or in a different virtual environment, it may use a different parser and behave differently.\n",
      "\n",
      "The code that caused this warning is on line 193 of the file C:\\Users\\Chris\\Anaconda3\\lib\\runpy.py. To get rid of this warning, change code that looks like this:\n",
      "\n",
      " BeautifulSoup(YOUR_MARKUP})\n",
      "\n",
      "to this:\n",
      "\n",
      " BeautifulSoup(YOUR_MARKUP, \"lxml\")\n",
      "\n",
      "  markup_type=markup_type))\n"
     ]
    }
   ],
   "source": [
    "year = 1980                            #repeat same steps for Driving accuracy in 1980 and 2017\n",
    "str_year = str(year)\n",
    "url_da = \"https://www.pgatour.com/stats/stat.102.\"+str_year+\".html\"\n",
    "html_da = urlopen(url_da)\n",
    "soup_da = BeautifulSoup(html_da)\n",
    "column_headers_da = [th.getText() for th in soup_da.findAll('tr', limit=2)[1].findAll('th')]\n",
    "data_rows_da = soup_da.findAll('tr')[2:] \n",
    "player_data_da = [[td.getText() for td in data_rows_da[i].findAll('td')] for i in range(len(data_rows_da))]\n",
    "df_da = pd.DataFrame(player_data_da, columns=column_headers_da)\n",
    "df_da.rename(columns={'%':'PERCENT FAIRWAYS'},inplace=True)\n",
    "df_da = df_da.drop(['RANK THIS WEEK','RANK LAST WEEK','ROUNDS','FAIRWAYS HIT', 'POSSIBLE FAIRWAYS'],axis=1)\n",
    "da_array_1980 = np.array(df_da['PERCENT FAIRWAYS']).astype(float)"
   ]
  },
  {
   "cell_type": "code",
   "execution_count": 19,
   "metadata": {},
   "outputs": [
    {
     "name": "stderr",
     "output_type": "stream",
     "text": [
      "C:\\Users\\Chris\\Anaconda3\\lib\\site-packages\\bs4\\__init__.py:181: UserWarning: No parser was explicitly specified, so I'm using the best available HTML parser for this system (\"lxml\"). This usually isn't a problem, but if you run this code on another system, or in a different virtual environment, it may use a different parser and behave differently.\n",
      "\n",
      "The code that caused this warning is on line 193 of the file C:\\Users\\Chris\\Anaconda3\\lib\\runpy.py. To get rid of this warning, change code that looks like this:\n",
      "\n",
      " BeautifulSoup(YOUR_MARKUP})\n",
      "\n",
      "to this:\n",
      "\n",
      " BeautifulSoup(YOUR_MARKUP, \"lxml\")\n",
      "\n",
      "  markup_type=markup_type))\n"
     ]
    }
   ],
   "source": [
    "year = 2017\n",
    "str_year = str(year)\n",
    "url_da = \"https://www.pgatour.com/stats/stat.102.\"+str_year+\".html\"\n",
    "html_da = urlopen(url_da)\n",
    "soup_da = BeautifulSoup(html_da)\n",
    "column_headers_da = [th.getText() for th in soup_da.findAll('tr', limit=2)[1].findAll('th')]\n",
    "data_rows_da = soup_da.findAll('tr')[2:] \n",
    "player_data_da = [[td.getText() for td in data_rows_da[i].findAll('td')] for i in range(len(data_rows_da))]\n",
    "df_da = pd.DataFrame(player_data_da, columns=column_headers_da)\n",
    "df_da.rename(columns={'%':'PERCENT FAIRWAYS'},inplace=True)\n",
    "df_da = df_da.drop(['RANK THIS WEEK','RANK LAST WEEK','ROUNDS','FAIRWAYS HIT', 'POSSIBLE FAIRWAYS'],axis=1)\n",
    "da_array_2017 = np.array(df_da['PERCENT FAIRWAYS']).astype(float)"
   ]
  },
  {
   "cell_type": "code",
   "execution_count": 25,
   "metadata": {},
   "outputs": [
    {
     "data": {
      "image/png": "[encoded data removed]",
      "text/plain": [
       "<matplotlib.figure.Figure at 0x1a75bf7ed30>"
      ]
     },
     "metadata": {},
     "output_type": "display_data"
    }
   ],
   "source": [
    "x2, y2 = ecdf(da_array_1980)\n",
    "x3, y3 = ecdf(da_array_2017)\n",
    "plt.plot(x2,y2,marker='.', linestyle='none')\n",
    "plt.plot(x3,y3,marker='.', linestyle='none',color='red')\n",
    "plt.xlabel('PERCENT FAIRWAYS')\n",
    "plt.ylabel('ECDF')\n",
    "plt.show()"
   ]
  },
  {
   "cell_type": "code",
   "execution_count": 21,
   "metadata": {},
   "outputs": [
    {
     "data": {
      "text/plain": [
       "-2.1652451127819532"
      ]
     },
     "execution_count": 21,
     "metadata": {},
     "output_type": "execute_result"
    }
   ],
   "source": [
    "diff_mean_da = np.mean(da_array_2017)-np.mean(da_array_1980)\n",
    "diff_mean_da"
   ]
  },
  {
   "cell_type": "code",
   "execution_count": 23,
   "metadata": {},
   "outputs": [
    {
     "name": "stdout",
     "output_type": "stream",
     "text": [
      "p-value 0.0\n"
     ]
    }
   ],
   "source": [
    "perm_list_2 = []\n",
    "for _ in range(100000):\n",
    "    da_tot = np.concatenate([da_array_1980,da_array_2017])\n",
    "    da_tot_new = np.random.permutation(da_tot)\n",
    "    new_1980_da = da_tot_new[:len(da_array_1980)]\n",
    "    new_2017_da = da_tot_new[len(da_array_2017):]\n",
    "    diff_mean_da_perm = np.mean(new_2017_da)-np.mean(new_1980_da)\n",
    "    perm_list.append(diff_mean_da_perm)\n",
    "perm_array_2 = np.array(perm_list_2)\n",
    "print('p-value', np.count_nonzero(perm_array_2<diff_mean_da)/100000)\n"
   ]
  },
  {
   "cell_type": "code",
   "execution_count": null,
   "metadata": {
    "collapsed": true
   },
   "outputs": [],
   "source": []
  }
 ],
 "metadata": {
  "kernelspec": {
   "display_name": "Python 3",
   "language": "python",
   "name": "python3"
  },
  "language_info": {
   "codemirror_mode": {
    "name": "ipython",
    "version": 3
   },
   "file_extension": ".py",
   "mimetype": "text/x-python",
   "name": "python",
   "nbconvert_exporter": "python",
   "pygments_lexer": "ipython3",
   "version": "3.6.1"
  }
 },
 "nbformat": 4,
 "nbformat_minor": 2
}
