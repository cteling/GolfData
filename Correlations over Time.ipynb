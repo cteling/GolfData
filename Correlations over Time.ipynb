{
 "cells": [
  {
   "cell_type": "code",
   "execution_count": 1,
   "metadata": {
    "collapsed": true
   },
   "outputs": [],
   "source": [
    "#import libraries\n",
    "%matplotlib inline                   \n",
    "\n",
    "import matplotlib\n",
    "import numpy as np\n",
    "import matplotlib.pyplot as plt\n",
    "\n",
    "import pandas as pd\n",
    "from urllib.request import urlopen\n",
    "from bs4 import BeautifulSoup\n",
    "import seaborn as sns\n",
    "from sklearn.linear_model import LinearRegression"
   ]
  },
  {
   "cell_type": "code",
   "execution_count": 2,
   "metadata": {},
   "outputs": [
    {
     "name": "stderr",
     "output_type": "stream",
     "text": [
      "C:\\Users\\Chris\\Anaconda3\\lib\\site-packages\\bs4\\__init__.py:181: UserWarning: No parser was explicitly specified, so I'm using the best available HTML parser for this system (\"lxml\"). This usually isn't a problem, but if you run this code on another system, or in a different virtual environment, it may use a different parser and behave differently.\n",
      "\n",
      "The code that caused this warning is on line 193 of the file C:\\Users\\Chris\\Anaconda3\\lib\\runpy.py. To get rid of this warning, change code that looks like this:\n",
      "\n",
      " BeautifulSoup(YOUR_MARKUP})\n",
      "\n",
      "to this:\n",
      "\n",
      " BeautifulSoup(YOUR_MARKUP, \"lxml\")\n",
      "\n",
      "  markup_type=markup_type))\n",
      "C:\\Users\\Chris\\Anaconda3\\lib\\site-packages\\pandas\\core\\frame.py:891: UserWarning: DataFrame columns are not unique, some columns will be omitted.\n",
      "  \"columns will be omitted.\", UserWarning)\n"
     ]
    }
   ],
   "source": [
    "corr_list = []          #downloads drive distance and scoring data for each year from 1980 to 2017 and computes Pearson correlation\n",
    "for year in range(1980,2018):\n",
    "    str_year = str(year)\n",
    "    url_dd = \"https://www.pgatour.com/stats/stat.101.\"+str_year+\".html\"\n",
    "    html_dd = urlopen(url_dd)\n",
    "    soup_dd = BeautifulSoup(html_dd)\n",
    "    column_headers_dd = [th.getText() for th in \n",
    "                  soup_dd.findAll('tr', limit=2)[1].findAll('th')]\n",
    "    data_rows_dd = soup_dd.findAll('tr')[2:] \n",
    "    player_data_dd = [[td.getText() for td in data_rows_dd[i].findAll('td')]\n",
    "            for i in range(len(data_rows_dd))]\n",
    "    df_dd = pd.DataFrame(player_data_dd, columns=column_headers_dd)\n",
    "    df_dd.rename(columns={'AVG.':'AVG DRIVE DIST'},inplace=True)\n",
    "    df_dd = df_dd.drop(['RANK THIS WEEK','RANK LAST WEEK','TOTAL DISTANCE', 'TOTAL DRIVES'],axis=1)\n",
    "    dd_dict = df_dd.set_index('PLAYER NAME').T.to_dict()  \n",
    "    url_score = \"https://www.pgatour.com/stats/stat.120.\"+str_year+\".html\"\n",
    "    html_score = urlopen(url_score)\n",
    "    soup_score = BeautifulSoup(html_score)\n",
    "    column_headers_score = [th.getText() for th in \n",
    "                  soup_score.findAll('tr', limit=2)[1].findAll('th')]\n",
    "    data_rows_score = soup_score.findAll('tr')[2:] \n",
    "    player_data_score = [[td.getText() for td in data_rows_score[i].findAll('td')]\n",
    "            for i in range(len(data_rows_score))]\n",
    "    df_score = pd.DataFrame(player_data_score, columns=column_headers_score) \n",
    "    df_score.rename(columns={'AVG':'AVG SCORE'},inplace=True)\n",
    "    df_score = df_score.drop(['RANK THIS WEEK','RANK LAST WEEK','ROUNDS','TOTAL STROKES', 'TOTAL ADJUSTMENT', 'TOTAL ROUNDS'],axis=1)\n",
    "    #if len(df_dd) != len(df_score):\n",
    "    #    print(year, len(df_dd), len(df_score))\n",
    "    score_dict = df_score.set_index('PLAYER NAME').T.to_dict()\n",
    "    for key in score_dict:                                           \n",
    "        score_dict[key].update(dd_dict[key])\n",
    "    total_dict = score_dict\n",
    "    df_total = pd.DataFrame(total_dict).T\n",
    "    dd_arr = np.array(df_total['AVG DRIVE DIST']).astype(float)\n",
    "    score_arr = np.array(df_total['AVG SCORE']).astype(float)\n",
    "    corr_list.append(np.corrcoef(dd_arr,score_arr)[1][0])\n",
    "    #print(corr_list)\n",
    "\n",
    "\n"
   ]
  },
  {
   "cell_type": "code",
   "execution_count": 3,
   "metadata": {
    "collapsed": true
   },
   "outputs": [],
   "source": [
    "corr_arr = np.array(corr_list)\n",
    "years_arr = np.arange(1980,2018)"
   ]
  },
  {
   "cell_type": "code",
   "execution_count": 2,
   "metadata": {},
   "outputs": [
    {
     "name": "stderr",
     "output_type": "stream",
     "text": [
      "C:\\Users\\Chris\\Anaconda3\\lib\\site-packages\\bs4\\__init__.py:181: UserWarning: No parser was explicitly specified, so I'm using the best available HTML parser for this system (\"lxml\"). This usually isn't a problem, but if you run this code on another system, or in a different virtual environment, it may use a different parser and behave differently.\n",
      "\n",
      "The code that caused this warning is on line 193 of the file C:\\Users\\Chris\\Anaconda3\\lib\\runpy.py. To get rid of this warning, change code that looks like this:\n",
      "\n",
      " BeautifulSoup(YOUR_MARKUP})\n",
      "\n",
      "to this:\n",
      "\n",
      " BeautifulSoup(YOUR_MARKUP, \"lxml\")\n",
      "\n",
      "  markup_type=markup_type))\n"
     ]
    }
   ],
   "source": [
    "averages = []\n",
    "deviations = []\n",
    "for year in range(1980,2018):\n",
    "    str_year = str(year)\n",
    "    url_dd_1 = \"https://www.pgatour.com/stats/stat.101.\"+str_year+\".html\"\n",
    "    html_dd_1 = urlopen(url_dd_1)\n",
    "    soup_dd_1 = BeautifulSoup(html_dd_1)\n",
    "    column_headers_dd_1 = [th.getText() for th in \n",
    "                  soup_dd_1.findAll('tr', limit=2)[1].findAll('th')]\n",
    "    data_rows_dd_1 = soup_dd_1.findAll('tr')[2:] \n",
    "    player_data_dd_1 = [[td.getText() for td in data_rows_dd_1[i].findAll('td')]\n",
    "            for i in range(len(data_rows_dd_1))]\n",
    "    df_dd_1 = pd.DataFrame(player_data_dd_1, columns=column_headers_dd_1)\n",
    "    df_dd_1.rename(columns={'AVG.':'AVG DRIVE DIST'},inplace=True)\n",
    "    df_dd_1 = df_dd_1.drop(['RANK THIS WEEK','RANK LAST WEEK','TOTAL DISTANCE', 'TOTAL DRIVES'],axis=1)\n",
    "    dd_arr_1 = np.array(df_dd_1['AVG DRIVE DIST']).astype(float)\n",
    "    averages.append(np.mean(dd_arr_1))\n",
    "    deviations.append(np.std(dd_arr_1))"
   ]
  },
  {
   "cell_type": "code",
   "execution_count": 3,
   "metadata": {},
   "outputs": [
    {
     "data": {
      "text/plain": [
       "array([ 256.78228571,  259.44876543,  256.7689441 ,  258.49655172,\n",
       "        259.47967033,  259.94134078,  261.53258427,  262.21329787,\n",
       "        263.36324324,  261.73172043,  262.72395833,  261.36137566,\n",
       "        260.39726776,  260.16243386,  261.88826816,  263.43138298,\n",
       "        266.36421053,  267.60615385,  270.53776596,  272.46041667,\n",
       "        273.17076923,  279.38659794,  279.7509901 ,  286.56894737,\n",
       "        287.175     ,  288.57376238,  289.49846939,  289.07908163,\n",
       "        287.6106599 ,  287.95869565,  287.51354167,  291.08978495,\n",
       "        290.0539267 ,  287.92166667,  290.01694915,  290.30108696,\n",
       "        290.89891892,  292.78210526])"
      ]
     },
     "execution_count": 3,
     "metadata": {},
     "output_type": "execute_result"
    }
   ],
   "source": [
    "avg_dd_arr = np.array(averages)\n",
    "avg_dd_arr"
   ]
  },
  {
   "cell_type": "code",
   "execution_count": 4,
   "metadata": {},
   "outputs": [
    {
     "data": {
      "text/plain": [
       "array([ 7.41131763,  7.19522508,  7.23067341,  7.01767798,  7.02898035,\n",
       "        7.15452511,  8.10276379,  7.24137666,  7.13954728,  7.57936604,\n",
       "        6.68284877,  7.65547425,  7.45444769,  7.94824638,  8.34225475,\n",
       "        7.99152638,  7.98810847,  8.0163911 ,  7.70066378,  7.84113724,\n",
       "        7.51412461,  7.32677098,  7.52769961,  8.63697888,  8.25335043,\n",
       "        9.29497654,  8.70820911,  8.54174152,  8.53271626,  8.57538378,\n",
       "        8.19507753,  8.32056999,  8.36117134,  7.9888483 ,  8.67147058,\n",
       "        9.12245193,  8.62676532,  9.40795273])"
      ]
     },
     "execution_count": 4,
     "metadata": {},
     "output_type": "execute_result"
    }
   ],
   "source": [
    "std_dd_arr = np.array(deviations)\n",
    "std_dd_arr"
   ]
  },
  {
   "cell_type": "code",
   "execution_count": 8,
   "metadata": {},
   "outputs": [
    {
     "data": {
      "image/png": "[encoded data removed]",
      "text/plain": [
       "<matplotlib.figure.Figure at 0x20fc2eb5da0>"
      ]
     },
     "metadata": {},
     "output_type": "display_data"
    }
   ],
   "source": [
    "plt.scatter(years_arr, corr_arr) \n",
    "plt.xlabel('Year')\n",
    "plt.ylabel('Pearson Correlation between Drive Distance and Score')\n",
    "plt.show()  "
   ]
  },
  {
   "cell_type": "code",
   "execution_count": 12,
   "metadata": {},
   "outputs": [
    {
     "data": {
      "image/png": "[encoded data removed]",
      "text/plain": [
       "<matplotlib.figure.Figure at 0x20fc95c6e48>"
      ]
     },
     "metadata": {},
     "output_type": "display_data"
    }
   ],
   "source": [
    "plt.scatter(years_arr, avg_dd_arr)                     #How the average drive distance for PGA TOUR players has changed over time\n",
    "plt.xlabel('Year')\n",
    "plt.ylabel('Average PGA Tour Drive Distance')\n",
    "plt.show()"
   ]
  },
  {
   "cell_type": "code",
   "execution_count": 14,
   "metadata": {},
   "outputs": [
    {
     "name": "stderr",
     "output_type": "stream",
     "text": [
      "C:\\Users\\Chris\\Anaconda3\\lib\\site-packages\\bs4\\__init__.py:181: UserWarning: No parser was explicitly specified, so I'm using the best available HTML parser for this system (\"lxml\"). This usually isn't a problem, but if you run this code on another system, or in a different virtual environment, it may use a different parser and behave differently.\n",
      "\n",
      "The code that caused this warning is on line 193 of the file C:\\Users\\Chris\\Anaconda3\\lib\\runpy.py. To get rid of this warning, change code that looks like this:\n",
      "\n",
      " BeautifulSoup(YOUR_MARKUP})\n",
      "\n",
      "to this:\n",
      "\n",
      " BeautifulSoup(YOUR_MARKUP, \"lxml\")\n",
      "\n",
      "  markup_type=markup_type))\n",
      "C:\\Users\\Chris\\Anaconda3\\lib\\site-packages\\pandas\\core\\frame.py:891: UserWarning: DataFrame columns are not unique, some columns will be omitted.\n",
      "  \"columns will be omitted.\", UserWarning)\n"
     ]
    }
   ],
   "source": [
    "corr_list_2 = []        #downloads GIR and scoring data for each year from 1980 to 2017 and computes Pearson correlation\n",
    "for year in range(1980,2018):\n",
    "    str_year = str(year)\n",
    "    url_gir = \"https://www.pgatour.com/stats/stat.103.\"+str_year+\".html\"\n",
    "    html_gir = urlopen(url_gir)\n",
    "    soup_gir = BeautifulSoup(html_gir)\n",
    "    column_headers_gir = [th.getText() for th in \n",
    "                  soup_gir.findAll('tr', limit=2)[1].findAll('th')]\n",
    "    data_rows_gir = soup_gir.findAll('tr')[2:] \n",
    "    player_data_gir = [[td.getText() for td in data_rows_gir[i].findAll('td')]\n",
    "            for i in range(len(data_rows_gir))]\n",
    "    df_gir = pd.DataFrame(player_data_gir, columns=column_headers_gir)\n",
    "    df_gir.rename(columns={'%':'PERCENT GIR'},inplace=True)\n",
    "    df_gir = df_gir.drop(['RANK THIS WEEK','RANK LAST WEEK','GREENS HIT', \"# HOLES\", 'RELATIVE/PAR'],axis=1)\n",
    "    gir_dict = df_gir.set_index('PLAYER NAME').T.to_dict()  \n",
    "    url_score = \"https://www.pgatour.com/stats/stat.120.\"+str_year+\".html\"\n",
    "    html_score = urlopen(url_score)\n",
    "    soup_score = BeautifulSoup(html_score)\n",
    "    column_headers_score = [th.getText() for th in \n",
    "                  soup_score.findAll('tr', limit=2)[1].findAll('th')]\n",
    "    data_rows_score = soup_score.findAll('tr')[2:] \n",
    "    player_data_score = [[td.getText() for td in data_rows_score[i].findAll('td')]\n",
    "            for i in range(len(data_rows_score))]\n",
    "    df_score = pd.DataFrame(player_data_score, columns=column_headers_score) \n",
    "    df_score.rename(columns={'AVG':'AVG SCORE'},inplace=True)\n",
    "    df_score = df_score.drop(['RANK THIS WEEK','RANK LAST WEEK','ROUNDS','TOTAL STROKES', 'TOTAL ADJUSTMENT', 'TOTAL ROUNDS'],axis=1)\n",
    "    #if len(df_dd) != len(df_score):\n",
    "    #    print(year, len(df_dd), len(df_score))\n",
    "    score_dict = df_score.set_index('PLAYER NAME').T.to_dict()\n",
    "    for key in score_dict:                                           \n",
    "        score_dict[key].update(gir_dict[key])\n",
    "    total_dict = score_dict\n",
    "    df_total = pd.DataFrame(total_dict).T\n",
    "    dd_arr = np.array(df_total['PERCENT GIR']).astype(float)\n",
    "    score_arr = np.array(df_total['AVG SCORE']).astype(float)\n",
    "    corr_list_2.append(np.corrcoef(dd_arr,score_arr)[1][0])\n",
    "    "
   ]
  },
  {
   "cell_type": "code",
   "execution_count": 15,
   "metadata": {
    "collapsed": true
   },
   "outputs": [],
   "source": [
    "corr_2_arr = np.array(corr_list_2)\n"
   ]
  },
  {
   "cell_type": "code",
   "execution_count": 16,
   "metadata": {},
   "outputs": [
    {
     "data": {
      "image/png": "[encoded data removed]",
      "text/plain": [
       "<matplotlib.figure.Figure at 0x20fc91345f8>"
      ]
     },
     "metadata": {},
     "output_type": "display_data"
    }
   ],
   "source": [
    "plt.scatter(years_arr, corr_2_arr)                  \n",
    "plt.xlabel('Year')\n",
    "plt.ylabel('Pearson Correlation between Percent GIR and Score')\n",
    "plt.show()  "
   ]
  },
  {
   "cell_type": "code",
   "execution_count": 23,
   "metadata": {},
   "outputs": [
    {
     "data": {
      "text/plain": [
       "0.72541522037379458"
      ]
     },
     "execution_count": 23,
     "metadata": {},
     "output_type": "execute_result"
    }
   ],
   "source": [
    "np.corrcoef(avg_dd_arr,corr_2_arr)[1][0]      #correlation between avg drive distance and Pearson of GIR and score"
   ]
  },
  {
   "cell_type": "code",
   "execution_count": 18,
   "metadata": {},
   "outputs": [
    {
     "name": "stderr",
     "output_type": "stream",
     "text": [
      "C:\\Users\\Chris\\Anaconda3\\lib\\site-packages\\bs4\\__init__.py:181: UserWarning: No parser was explicitly specified, so I'm using the best available HTML parser for this system (\"lxml\"). This usually isn't a problem, but if you run this code on another system, or in a different virtual environment, it may use a different parser and behave differently.\n",
      "\n",
      "The code that caused this warning is on line 193 of the file C:\\Users\\Chris\\Anaconda3\\lib\\runpy.py. To get rid of this warning, change code that looks like this:\n",
      "\n",
      " BeautifulSoup(YOUR_MARKUP})\n",
      "\n",
      "to this:\n",
      "\n",
      " BeautifulSoup(YOUR_MARKUP, \"lxml\")\n",
      "\n",
      "  markup_type=markup_type))\n",
      "C:\\Users\\Chris\\Anaconda3\\lib\\site-packages\\pandas\\core\\frame.py:891: UserWarning: DataFrame columns are not unique, some columns will be omitted.\n",
      "  \"columns will be omitted.\", UserWarning)\n"
     ]
    }
   ],
   "source": [
    "corr_list_3 = []       #downloads drive accuracy and scoring data for each year from 1980 to 2017 and computes Pearson correlation\n",
    "for year in range(1980,2018):\n",
    "    str_year = str(year)\n",
    "    url_da = \"https://www.pgatour.com/stats/stat.102.\"+str_year+\".html\"\n",
    "    html_da = urlopen(url_da)\n",
    "    soup_da = BeautifulSoup(html_da)\n",
    "    column_headers_da = [th.getText() for th in \n",
    "                  soup_da.findAll('tr', limit=2)[1].findAll('th')]\n",
    "    data_rows_da = soup_da.findAll('tr')[2:] \n",
    "    player_data_da = [[td.getText() for td in data_rows_da[i].findAll('td')]\n",
    "            for i in range(len(data_rows_da))]\n",
    "    df_da = pd.DataFrame(player_data_da, columns=column_headers_da)\n",
    "    df_da.rename(columns={'%':'PERCENT FAIRWAYS'},inplace=True)\n",
    "    df_da = df_da.drop(['RANK THIS WEEK','RANK LAST WEEK','ROUNDS','FAIRWAYS HIT', 'POSSIBLE FAIRWAYS'],axis=1)\n",
    "    da_dict = df_da.set_index('PLAYER NAME').T.to_dict()  \n",
    "    url_score = \"https://www.pgatour.com/stats/stat.120.\"+str_year+\".html\"\n",
    "    html_score = urlopen(url_score)\n",
    "    soup_score = BeautifulSoup(html_score)\n",
    "    column_headers_score = [th.getText() for th in \n",
    "                  soup_score.findAll('tr', limit=2)[1].findAll('th')]\n",
    "    data_rows_score = soup_score.findAll('tr')[2:] \n",
    "    player_data_score = [[td.getText() for td in data_rows_score[i].findAll('td')]\n",
    "            for i in range(len(data_rows_score))]\n",
    "    df_score = pd.DataFrame(player_data_score, columns=column_headers_score) \n",
    "    df_score.rename(columns={'AVG':'AVG SCORE'},inplace=True)\n",
    "    df_score = df_score.drop(['RANK THIS WEEK','RANK LAST WEEK','ROUNDS','TOTAL STROKES', 'TOTAL ADJUSTMENT', 'TOTAL ROUNDS'],axis=1)\n",
    "    #if len(df_dd) != len(df_score):\n",
    "    #    print(year, len(df_dd), len(df_score))\n",
    "    score_dict = df_score.set_index('PLAYER NAME').T.to_dict()\n",
    "    for key in score_dict:                                           \n",
    "        score_dict[key].update(da_dict[key])\n",
    "    total_dict = score_dict\n",
    "    df_total = pd.DataFrame(total_dict).T\n",
    "    da_arr = np.array(df_total['PERCENT FAIRWAYS']).astype(float)\n",
    "    score_arr = np.array(df_total['AVG SCORE']).astype(float)\n",
    "    corr_list_3.append(np.corrcoef(da_arr,score_arr)[1][0])"
   ]
  },
  {
   "cell_type": "code",
   "execution_count": 19,
   "metadata": {
    "collapsed": true
   },
   "outputs": [],
   "source": [
    "corr_3_arr = np.array(corr_list_3)"
   ]
  },
  {
   "cell_type": "code",
   "execution_count": 20,
   "metadata": {},
   "outputs": [
    {
     "data": {
      "image/png": "[encoded data removed]",
      "text/plain": [
       "<matplotlib.figure.Figure at 0x20fcb6946a0>"
      ]
     },
     "metadata": {},
     "output_type": "display_data"
    }
   ],
   "source": [
    "plt.scatter(years_arr, corr_3_arr)                  \n",
    "plt.xlabel('Year')\n",
    "plt.ylabel('Pearson Correlation between Percent Fairways and Score')\n",
    "plt.show()  "
   ]
  },
  {
   "cell_type": "code",
   "execution_count": 22,
   "metadata": {},
   "outputs": [
    {
     "data": {
      "text/plain": [
       "0.88611201430722131"
      ]
     },
     "execution_count": 22,
     "metadata": {},
     "output_type": "execute_result"
    }
   ],
   "source": [
    "np.corrcoef(avg_dd_arr,corr_3_arr)[1][0]  #correlation between avg drive distance and Pearson of drive distance and score"
   ]
  },
  {
   "cell_type": "code",
   "execution_count": null,
   "metadata": {
    "collapsed": true
   },
   "outputs": [],
   "source": []
  }
 ],
 "metadata": {
  "kernelspec": {
   "display_name": "Python 3",
   "language": "python",
   "name": "python3"
  },
  "language_info": {
   "codemirror_mode": {
    "name": "ipython",
    "version": 3
   },
   "file_extension": ".py",
   "mimetype": "text/x-python",
   "name": "python",
   "nbconvert_exporter": "python",
   "pygments_lexer": "ipython3",
   "version": "3.6.1"
  }
 },
 "nbformat": 4,
 "nbformat_minor": 2
}
